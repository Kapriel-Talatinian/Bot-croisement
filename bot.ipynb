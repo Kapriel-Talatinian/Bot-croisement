{
 "cells": [
  {
   "cell_type": "markdown",
   "metadata": {},
   "source": [
    "install dependecies "
   ]
  },
  {
   "cell_type": "code",
   "execution_count": null,
   "metadata": {},
   "outputs": [],
   "source": [
    "!pip install pyTelegramBotAPI yfinance pandas numpy ta"
   ]
  },
  {
   "cell_type": "markdown",
   "metadata": {},
   "source": [
    "configure with your telegram bot token and chat id "
   ]
  },
  {
   "cell_type": "code",
   "execution_count": null,
   "metadata": {},
   "outputs": [],
   "source": [
    "import yfinance as yf\n",
    "import telebot\n",
    "import pandas as pd\n",
    "import numpy as np\n",
    "from ta.trend import ADXIndicator, MACD\n",
    "from ta.momentum import StochasticOscillator\n",
    "import time\n",
    "\n",
    "TELEGRAM_BOT_TOKEN = 'TELEGRAMTOKEN'\n",
    "CHAT_ID = '-CHATID' \n",
    "bot = telebot.TeleBot(TELEGRAM_BOT_TOKEN)\n",
    "\n",
    "SYMBOLS = {'XAU/USD': 'GC=F', 'NDX/USD': '^NDX'}\n",
    "TIMEFRAMES = {'1h': '1h', '15m': '15m'}  \n",
    "\n",
    "def get_data(symbol, timeframe, limit=100):\n",
    "    yf_symbol = SYMBOLS.get(symbol, symbol)\n",
    "    print(f\"[INFO] Récupération des données réelles pour {symbol} en {timeframe}\")\n",
    "    df = yf.download(yf_symbol, period='7d', interval=TIMEFRAMES[timeframe])\n",
    "    df = df.tail(limit)\n",
    "    df.reset_index(inplace=True)\n",
    "    \n",
    "    df = df[['Datetime', 'Open', 'High', 'Low', 'Close', 'Volume']]\n",
    "    df.columns = ['timestamp', 'open', 'high', 'low', 'close', 'volume']\n",
    "    df = df.dropna()\n",
    "    return df\n",
    "\n",
    "def calculate_indicators(df):\n",
    "    if df.empty:\n",
    "        return df  \n",
    "    \n",
    "    # ADXr\n",
    "    adx = ADXIndicator(high=df['high'], low=df['low'], close=df['close'], window=14)\n",
    "    df['adx'] = adx.adx()\n",
    "    df['adxr'] = (df['adx'] + df['adx'].shift(1)) / 2\n",
    "    \n",
    "    # MACD\n",
    "    macd = MACD(close=df['close'])\n",
    "    df['macd'] = macd.macd()\n",
    "    df['macd_signal'] = macd.macd_signal()\n",
    "    df['macd_cross'] = np.where(df['macd'] > df['macd_signal'], 1, -1)\n",
    "    \n",
    "    # Center of Gravity (COG)\n",
    "    df['cog'] = df['close'].rolling(window=10).mean()\n",
    "    return df\n",
    "\n",
    "def check_signals(df):\n",
    "    if df.shape[0] < 2:\n",
    "        return False \n",
    "    \n",
    "    latest = df.iloc[-1]\n",
    "    previous = df.iloc[-2]\n",
    "    \n",
    "    macd_cross_up = previous['macd_cross'] == -1 and latest['macd_cross'] == 1\n",
    "    adxr_up = latest['adxr'] > previous['adxr']\n",
    "    cog_cross = previous['close'] < previous['cog'] and latest['close'] > latest['cog']\n",
    "    \n",
    "    if macd_cross_up and adxr_up and cog_cross:\n",
    "        return True\n",
    "    return False\n",
    "\n",
    "# Fonction principale\n",
    "def main():\n",
    "    while True:\n",
    "        for symbol in SYMBOLS.keys():\n",
    "            for timeframe in TIMEFRAMES.keys():\n",
    "                df = get_data(symbol, timeframe)\n",
    "                df = calculate_indicators(df)\n",
    "                \n",
    "                if not df.empty and check_signals(df):\n",
    "                    message = f'Signal détecté sur {symbol} en {timeframe} !\\nADXR, MACD et COG alignés.'\n",
    "                    bot.send_message(CHAT_ID, message)\n",
    "                    print(message)\n",
    "                else:\n",
    "                    print(f\"[INFO] Aucun signal détecté pour {symbol} en {timeframe}\")\n",
    "        \n",
    "        time.sleep(10)  \n",
    "\n",
    "if __name__ == '__main__':\n",
    "    main()\n"
   ]
  },
  {
   "cell_type": "markdown",
   "metadata": {},
   "source": [
    "Dont forget to redo the mapping if not using yfinance "
   ]
  }
 ],
 "metadata": {
  "language_info": {
   "name": "python"
  }
 },
 "nbformat": 4,
 "nbformat_minor": 2
}
